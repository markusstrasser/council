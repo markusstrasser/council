{
 "cells": [
  {
   "cell_type": "code",
   "execution_count": 1,
   "metadata": {},
   "outputs": [],
   "source": [
    "# importing packages\n",
    "from pytube import YouTube, Playlist\n",
    "import os"
   ]
  },
  {
   "cell_type": "code",
   "execution_count": 4,
   "metadata": {},
   "outputs": [],
   "source": [
    "from pytube import YouTube  # !pip install pytube\n",
    "from pytube.exceptions import RegexMatchError\n",
    "from tqdm.auto import tqdm  # !pip install tqdm\n",
    "from datasets import load_dataset"
   ]
  },
  {
   "cell_type": "code",
   "execution_count": 5,
   "metadata": {},
   "outputs": [
    {
     "name": "stderr",
     "output_type": "stream",
     "text": [
      "/usr/local/Caskroom/miniconda/base/envs/ml/lib/python3.10/site-packages/huggingface_hub/utils/_deprecation.py:97: FutureWarning: Deprecated argument(s) used in 'dataset_info': token. Will not be supported from version '0.12'.\n",
      "  warnings.warn(message, FutureWarning)\n",
      "Using custom data configuration jamescalam--channel-metadata-f05dcb73250ab96b\n",
      "Reusing dataset json (/Users/stephen/.cache/huggingface/datasets/jamescalam___json/jamescalam--channel-metadata-f05dcb73250ab96b/0.0.0/a3e658c4731e59120d44081ac10bf85dc7e1388126b92338344ce9661907f253)\n"
     ]
    },
    {
     "data": {
      "text/plain": [
       "Dataset({\n",
       "    features: ['Video ID', 'Channel ID', 'Title', 'Time Created', 'Time Published', 'Duration', 'Description', 'Category', 'Like Count', 'Dislike Count'],\n",
       "    num_rows: 222\n",
       "})"
      ]
     },
     "execution_count": 5,
     "metadata": {},
     "output_type": "execute_result"
    }
   ],
   "source": [
    "meta = load_dataset(\n",
    "    \"AndrejKarpathy\",\n",
    "    split=\"train\",\n",
    "    revision=\"9614cf8\"\n",
    ")\n",
    "meta"
   ]
  },
  {
   "cell_type": "code",
   "execution_count": 6,
   "metadata": {},
   "outputs": [
    {
     "ename": "NameError",
     "evalue": "name 'videos_meta' is not defined",
     "output_type": "error",
     "traceback": [
      "\u001b[0;31m---------------------------------------------------------------------------\u001b[0m",
      "\u001b[0;31mNameError\u001b[0m                                 Traceback (most recent call last)",
      "\u001b[1;32m/Users/stephen/Dev/council/youtube-to-transcript copy.ipynb Cell 4\u001b[0m in \u001b[0;36m<cell line: 4>\u001b[0;34m()\u001b[0m\n\u001b[1;32m      <a href='vscode-notebook-cell:/Users/stephen/Dev/council/youtube-to-transcript%20copy.ipynb#W1sZmlsZQ%3D%3D?line=0'>1</a>\u001b[0m \u001b[39m# where to save\u001b[39;00m\n\u001b[1;32m      <a href='vscode-notebook-cell:/Users/stephen/Dev/council/youtube-to-transcript%20copy.ipynb#W1sZmlsZQ%3D%3D?line=1'>2</a>\u001b[0m save_path \u001b[39m=\u001b[39m \u001b[39m\"\u001b[39m\u001b[39m./mp3\u001b[39m\u001b[39m\"\u001b[39m\n\u001b[0;32m----> <a href='vscode-notebook-cell:/Users/stephen/Dev/council/youtube-to-transcript%20copy.ipynb#W1sZmlsZQ%3D%3D?line=3'>4</a>\u001b[0m \u001b[39mfor\u001b[39;00m i, row \u001b[39min\u001b[39;00m tqdm(videos_meta):\n\u001b[1;32m      <a href='vscode-notebook-cell:/Users/stephen/Dev/council/youtube-to-transcript%20copy.ipynb#W1sZmlsZQ%3D%3D?line=4'>5</a>\u001b[0m     \u001b[39m# url of video to be downloaded\u001b[39;00m\n\u001b[1;32m      <a href='vscode-notebook-cell:/Users/stephen/Dev/council/youtube-to-transcript%20copy.ipynb#W1sZmlsZQ%3D%3D?line=5'>6</a>\u001b[0m     url \u001b[39m=\u001b[39m \u001b[39mf\u001b[39m\u001b[39m\"\u001b[39m\u001b[39mhttps://youtu.be/\u001b[39m\u001b[39m{\u001b[39;00mrow[\u001b[39m'\u001b[39m\u001b[39mVideo ID\u001b[39m\u001b[39m'\u001b[39m]\u001b[39m}\u001b[39;00m\u001b[39m\"\u001b[39m\n\u001b[1;32m      <a href='vscode-notebook-cell:/Users/stephen/Dev/council/youtube-to-transcript%20copy.ipynb#W1sZmlsZQ%3D%3D?line=7'>8</a>\u001b[0m     \u001b[39m# try to create a YouTube vid object\u001b[39;00m\n",
      "\u001b[0;31mNameError\u001b[0m: name 'videos_meta' is not defined"
     ]
    }
   ],
   "source": [
    "\n",
    "\n",
    "\n",
    "\n",
    "\n",
    "# where to save\n",
    "save_path = \"./mp3\"\n",
    "\n",
    "for i, row in tqdm(videos_meta):\n",
    "\n",
    "def yt_to_mp3(i,row):\n",
    "    # url of video to be downloaded\n",
    "    url = f\"https://youtu.be/{row['Video ID']}\"\n",
    "\n",
    "    # try to create a YouTube vid object\n",
    "    try:\n",
    "        yt = YouTube(url)\n",
    "    except RegexMatchError:\n",
    "        print(f\"RegexMatchError for '{url}'\")\n",
    "        continue\n",
    "\n",
    "    itag = None\n",
    "    # we only want audio files\n",
    "    files = yt.streams.filter(only_audio=True)\n",
    "    for file in files:\n",
    "        # from audio files we grab the first audio for mp4 (eg mp3)\n",
    "        if file.mime_type == 'audio/mp4':\n",
    "            itag = file.itag\n",
    "            break\n",
    "    if itag is None:\n",
    "        # just incase no MP3 audio is found (shouldn't happen)\n",
    "        print(\"NO MP3 AUDIO FOUND\")\n",
    "        continue\n",
    "\n",
    "    # get the correct mp3 'stream'\n",
    "    stream = yt.streams.get_by_itag(itag)\n",
    "    # downloading the audio\n",
    "    stream.download(\n",
    "        output_path=save_path,\n",
    "        filename=f\"{row['Video ID']}.mp3\"\n",
    "    )"
   ]
  },
  {
   "cell_type": "code",
   "execution_count": 12,
   "metadata": {},
   "outputs": [
    {
     "ename": "NameError",
     "evalue": "name 'youtube_url_to_mp3' is not defined",
     "output_type": "error",
     "traceback": [
      "\u001b[0;31m---------------------------------------------------------------------------\u001b[0m",
      "\u001b[0;31mNameError\u001b[0m                                 Traceback (most recent call last)",
      "\u001b[1;32m/Users/stephen/Dev/council/youtube-to-transcript copy.ipynb Cell 5\u001b[0m in \u001b[0;36m<cell line: 3>\u001b[0;34m()\u001b[0m\n\u001b[1;32m      <a href='vscode-notebook-cell:/Users/stephen/Dev/council/youtube-to-transcript%20copy.ipynb#W2sZmlsZQ%3D%3D?line=0'>1</a>\u001b[0m karpathy_url \u001b[39m=\u001b[39m \u001b[39m\"\u001b[39m\u001b[39mhttps://www.youtube.com/watch?v=VMj-3S1tku0&list=PLAqhIrjkxbuWI23v9cThsA9GvCAUhRvKZ&index=1&t=112s\u001b[39m\u001b[39m\"\u001b[39m\n\u001b[1;32m      <a href='vscode-notebook-cell:/Users/stephen/Dev/council/youtube-to-transcript%20copy.ipynb#W2sZmlsZQ%3D%3D?line=1'>2</a>\u001b[0m fastai_url \u001b[39m=\u001b[39m \u001b[39m\"\u001b[39m\u001b[39mhttps://www.youtube.com/watch?v=F4tvM4Vb3A0&list=PLfYUBJiXbdtSvpQjSnJJ_PmDQB_VyT5iU\u001b[39m\u001b[39m\"\u001b[39m\n\u001b[0;32m----> <a href='vscode-notebook-cell:/Users/stephen/Dev/council/youtube-to-transcript%20copy.ipynb#W2sZmlsZQ%3D%3D?line=2'>3</a>\u001b[0m mp3path \u001b[39m=\u001b[39m youtube_url_to_mp3(karpathy_url)\n\u001b[1;32m      <a href='vscode-notebook-cell:/Users/stephen/Dev/council/youtube-to-transcript%20copy.ipynb#W2sZmlsZQ%3D%3D?line=3'>4</a>\u001b[0m mp3path \u001b[39m=\u001b[39m youtube_url_to_mp3(fastai_url)\n\u001b[1;32m      <a href='vscode-notebook-cell:/Users/stephen/Dev/council/youtube-to-transcript%20copy.ipynb#W2sZmlsZQ%3D%3D?line=5'>6</a>\u001b[0m mp3path\n",
      "\u001b[0;31mNameError\u001b[0m: name 'youtube_url_to_mp3' is not defined"
     ]
    }
   ],
   "source": [
    "karpathy_url = \"https://www.youtube.com/watch?v=VMj-3S1tku0&list=PLAqhIrjkxbuWI23v9cThsA9GvCAUhRvKZ&index=1&t=112s\"\n",
    "fastai_url = \"https://www.youtube.com/watch?v=F4tvM4Vb3A0&list=PLfYUBJiXbdtSvpQjSnJJ_PmDQB_VyT5iU\"\n",
    "mp3path = youtube_url_to_mp3(karpathy_url)\n",
    "mp3path = youtube_url_to_mp3(fastai_url)\n",
    "\n",
    "mp3path"
   ]
  },
  {
   "cell_type": "code",
   "execution_count": 48,
   "metadata": {},
   "outputs": [
    {
     "name": "stdout",
     "output_type": "stream",
     "text": [
      "Downloaded successfully: \n",
      " /Users/stephen/Dev/council/mp3/Andrej Karpathy Setting ambitious goals at Tesla  Lex Fridman Podcast Clips.mp3\n"
     ]
    },
    {
     "data": {
      "text/plain": [
       "'/Users/stephen/Dev/council/mp3/Andrej Karpathy Setting ambitious goals at Tesla  Lex Fridman Podcast Clips.mp3'"
      ]
     },
     "execution_count": 48,
     "metadata": {},
     "output_type": "execute_result"
    }
   ],
   "source": [
    "youtube_url_to_mp3(\"https://www.youtube.com/watch?v=_JuQcodHANs\") # Karpathy 3 minute video for testing"
   ]
  },
  {
   "cell_type": "code",
   "execution_count": 8,
   "metadata": {},
   "outputs": [],
   "source": [
    "def get_urls_from_youtube_playlist(playlist_url):\n",
    "    \"\"\"Returns a list of video urls from a youtube playlist\"\"\"\n",
    "    playlist = Playlist(playlist_url)\n",
    "    return playlist.video_urls"
   ]
  },
  {
   "cell_type": "code",
   "execution_count": 26,
   "metadata": {},
   "outputs": [
    {
     "name": "stdout",
     "output_type": "stream",
     "text": [
      "https://www.youtube.com/watch?v=VMj-3S1tku0&list=PLAqhIrjkxbuWI23v9cThsA9GvCAUhRvKZ&index=1&t=112s\n"
     ]
    },
    {
     "ename": "Exception",
     "evalue": "Expected a string, got <class 'list'>",
     "output_type": "error",
     "traceback": [
      "\u001b[0;31m---------------------------------------------------------------------------\u001b[0m",
      "\u001b[0;31mException\u001b[0m                                 Traceback (most recent call last)",
      "\u001b[1;32m/Users/stephen/Dev/council/youtube-to-transcript copy.ipynb Cell 8\u001b[0m in \u001b[0;36m<cell line: 28>\u001b[0;34m()\u001b[0m\n\u001b[1;32m     <a href='vscode-notebook-cell:/Users/stephen/Dev/council/youtube-to-transcript%20copy.ipynb#W5sZmlsZQ%3D%3D?line=23'>24</a>\u001b[0m \u001b[39mprint\u001b[39m(karpathy_url)\n\u001b[1;32m     <a href='vscode-notebook-cell:/Users/stephen/Dev/council/youtube-to-transcript%20copy.ipynb#W5sZmlsZQ%3D%3D?line=25'>26</a>\u001b[0m \u001b[39mtype\u001b[39m(karpathy_url)\n\u001b[0;32m---> <a href='vscode-notebook-cell:/Users/stephen/Dev/council/youtube-to-transcript%20copy.ipynb#W5sZmlsZQ%3D%3D?line=27'>28</a>\u001b[0m karpathy_video_ids \u001b[39m=\u001b[39m get_video_ids_from_playlist_url(playlist_urls)\n\u001b[1;32m     <a href='vscode-notebook-cell:/Users/stephen/Dev/council/youtube-to-transcript%20copy.ipynb#W5sZmlsZQ%3D%3D?line=28'>29</a>\u001b[0m karpathy_video_id \u001b[39m=\u001b[39m get_video_id_from_video_url(\u001b[39mstr\u001b[39m(karpathy_url))\n\u001b[1;32m     <a href='vscode-notebook-cell:/Users/stephen/Dev/council/youtube-to-transcript%20copy.ipynb#W5sZmlsZQ%3D%3D?line=29'>30</a>\u001b[0m karpathy_video_id\n",
      "\u001b[1;32m/Users/stephen/Dev/council/youtube-to-transcript copy.ipynb Cell 8\u001b[0m in \u001b[0;36mget_video_ids_from_playlist_url\u001b[0;34m(playlist_url)\u001b[0m\n\u001b[1;32m     <a href='vscode-notebook-cell:/Users/stephen/Dev/council/youtube-to-transcript%20copy.ipynb#W5sZmlsZQ%3D%3D?line=17'>18</a>\u001b[0m \u001b[39mdef\u001b[39;00m \u001b[39mget_video_ids_from_playlist_url\u001b[39m(playlist_url):\n\u001b[0;32m---> <a href='vscode-notebook-cell:/Users/stephen/Dev/council/youtube-to-transcript%20copy.ipynb#W5sZmlsZQ%3D%3D?line=18'>19</a>\u001b[0m     \u001b[39mreturn\u001b[39;00m [get_video_id_from_video_url([url]) \u001b[39mfor\u001b[39;00m url \u001b[39min\u001b[39;00m playlist_url]\n",
      "\u001b[1;32m/Users/stephen/Dev/council/youtube-to-transcript copy.ipynb Cell 8\u001b[0m in \u001b[0;36m<listcomp>\u001b[0;34m(.0)\u001b[0m\n\u001b[1;32m     <a href='vscode-notebook-cell:/Users/stephen/Dev/council/youtube-to-transcript%20copy.ipynb#W5sZmlsZQ%3D%3D?line=17'>18</a>\u001b[0m \u001b[39mdef\u001b[39;00m \u001b[39mget_video_ids_from_playlist_url\u001b[39m(playlist_url):\n\u001b[0;32m---> <a href='vscode-notebook-cell:/Users/stephen/Dev/council/youtube-to-transcript%20copy.ipynb#W5sZmlsZQ%3D%3D?line=18'>19</a>\u001b[0m     \u001b[39mreturn\u001b[39;00m [get_video_id_from_video_url([url]) \u001b[39mfor\u001b[39;00m url \u001b[39min\u001b[39;00m playlist_url]\n",
      "\u001b[1;32m/Users/stephen/Dev/council/youtube-to-transcript copy.ipynb Cell 8\u001b[0m in \u001b[0;36mget_video_id_from_video_url\u001b[0;34m(url)\u001b[0m\n\u001b[1;32m     <a href='vscode-notebook-cell:/Users/stephen/Dev/council/youtube-to-transcript%20copy.ipynb#W5sZmlsZQ%3D%3D?line=11'>12</a>\u001b[0m \u001b[39mdef\u001b[39;00m \u001b[39mget_video_id_from_video_url\u001b[39m(url):\n\u001b[1;32m     <a href='vscode-notebook-cell:/Users/stephen/Dev/council/youtube-to-transcript%20copy.ipynb#W5sZmlsZQ%3D%3D?line=12'>13</a>\u001b[0m     \u001b[39mif\u001b[39;00m \u001b[39mtype\u001b[39m(url) \u001b[39m!=\u001b[39m \u001b[39mstr\u001b[39m:\n\u001b[0;32m---> <a href='vscode-notebook-cell:/Users/stephen/Dev/council/youtube-to-transcript%20copy.ipynb#W5sZmlsZQ%3D%3D?line=13'>14</a>\u001b[0m         \u001b[39mraise\u001b[39;00m \u001b[39mException\u001b[39;00m(\u001b[39mf\u001b[39m\u001b[39m\"\u001b[39m\u001b[39mExpected a string, got \u001b[39m\u001b[39m{\u001b[39;00m\u001b[39mtype\u001b[39m(url)\u001b[39m}\u001b[39;00m\u001b[39m\"\u001b[39m)\n\u001b[1;32m     <a href='vscode-notebook-cell:/Users/stephen/Dev/council/youtube-to-transcript%20copy.ipynb#W5sZmlsZQ%3D%3D?line=15'>16</a>\u001b[0m     \u001b[39mreturn\u001b[39;00m url\u001b[39m.\u001b[39msplit(\u001b[39m\"\u001b[39m\u001b[39m=\u001b[39m\u001b[39m\"\u001b[39m)[\u001b[39m-\u001b[39m\u001b[39m1\u001b[39m]\n",
      "\u001b[0;31mException\u001b[0m: Expected a string, got <class 'list'>"
     ]
    }
   ],
   "source": [
    "karpathy_playlist = \"https://www.youtube.com/playlist?list=PLAqhIrjkxbuWI23v9cThsA9GvCAUhRvKZ\"\n",
    "playlist_urls = get_urls_from_youtube_playlist(karpathy_playlist)\n",
    "\n",
    "karpathy_monologue_playlist = \"https://www.youtube.com/playlist?list=PL9dX7Elz2t0-c4Sy7trowtrDlbRWaoi6f\"\n",
    "playlist_urls = get_urls_from_youtube_playlist(karpathy_monologue_playlist)\n",
    "\n",
    "playlist_urls\n",
    "\n",
    "# get the video id from each video in the list \n",
    "\n",
    "\n",
    "def get_video_id_from_video_url(url):\n",
    "    url = str(url)\n",
    "    return url.split(\"=\")[-1]\n",
    "\n",
    "def get_video_ids_from_playlist_url(playlist_url):\n",
    "    return [get_video_id_from_video_url([url]) for url in playlist_url]\n",
    "\n",
    "\n",
    "karpathy_url = str(\"https://www.youtube.com/watch?v=VMj-3S1tku0&list=PLAqhIrjkxbuWI23v9cThsA9GvCAUhRvKZ&index=1&t=112s\")\n",
    "\n",
    "print(karpathy_url)\n",
    "\n",
    "type(karpathy_url)\n",
    "\n",
    "karpathy_video_ids = get_video_ids_from_playlist_url(playlist_urls)\n",
    "karpathy_video_id = get_video_id_from_video_url(str(karpathy_url))\n",
    "karpathy_video_id\n",
    "karpathy_video_ids\n",
    "\n"
   ]
  },
  {
   "cell_type": "code",
   "execution_count": null,
   "metadata": {},
   "outputs": [],
   "source": []
  },
  {
   "cell_type": "code",
   "execution_count": null,
   "metadata": {},
   "outputs": [],
   "source": []
  },
  {
   "cell_type": "code",
   "execution_count": null,
   "metadata": {},
   "outputs": [],
   "source": []
  }
 ],
 "metadata": {
  "kernelspec": {
   "display_name": "Python 3.10.4 ('ml')",
   "language": "python",
   "name": "python3"
  },
  "language_info": {
   "codemirror_mode": {
    "name": "ipython",
    "version": 3
   },
   "file_extension": ".py",
   "mimetype": "text/x-python",
   "name": "python",
   "nbconvert_exporter": "python",
   "pygments_lexer": "ipython3",
   "version": "3.10.4"
  },
  "orig_nbformat": 4,
  "vscode": {
   "interpreter": {
    "hash": "d905c6a59c21f0f46be93fdc832728644d115a3fdfd57971d06d899b53e0576e"
   }
  }
 },
 "nbformat": 4,
 "nbformat_minor": 2
}
