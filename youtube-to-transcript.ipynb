{
 "cells": [
  {
   "cell_type": "code",
   "execution_count": 93,
   "metadata": {},
   "outputs": [],
   "source": [
    "# importing packages\n",
    "from pytube import YouTube, Playlist, extract, helpers\n",
    "import os\n",
    "import json"
   ]
  },
  {
   "cell_type": "code",
   "execution_count": 83,
   "metadata": {},
   "outputs": [],
   "source": [
    "\n",
    "# https://www.geeksforgeeks.org/download-video-in-mp3-format-using-pytube/\n",
    "def youtube_url_to_mp3(yt_url, save_path=\"mp3/\"):\n",
    "    # url input from user\n",
    "    yt = YouTube(yt_url)\n",
    "    # extract only audio\n",
    "    video = yt.streams.filter(only_audio=True).first()\n",
    "\n",
    "    destination = save_path\n",
    "    \n",
    "    # download the file\n",
    "    out_file = video.download(output_path=destination)\n",
    "    \n",
    "    # save the file\n",
    "    base, ext = os.path.splitext(out_file) \n",
    "    filename = destination + extract.video_id(yt_url) + '.mp3'\n",
    "    os.rename(out_file, filename) \n",
    "\n",
    "    # # save the file\n",
    "    # base, ext = os.path.splitext(out_file)\n",
    "    # new_file = base + '.mp3'\n",
    "    # os.rename(out_file, new_file)\n",
    "\n",
    "    print('video',video)\n",
    "\n",
    "    # print(\"Downloaded successfully: \\n\", new_file)\n",
    "    return yt\n"
   ]
  },
  {
   "cell_type": "code",
   "execution_count": 84,
   "metadata": {},
   "outputs": [
    {
     "name": "stdout",
     "output_type": "stream",
     "text": [
      "video <Stream: itag=\"139\" mime_type=\"audio/mp4\" abr=\"48kbps\" acodec=\"mp4a.40.5\" progressive=\"False\" type=\"audio\">\n",
      "<pytube.__main__.YouTube object: videoId=caWEOyNsU3Y>\n"
     ]
    }
   ],
   "source": [
    "#karpathy_url = \"https://www.youtube.com/watch?v=VMj-3S1tku0&list=PLAqhIrjkxbuWI23v9cThsA9GvCAUhRvKZ&index=1&t=112s\"\n",
    "karpathy_url = \"https://www.youtube.com/watch?v=caWEOyNsU3Y\"\n",
    "karpathy_obj = youtube_url_to_mp3(karpathy_url)\n",
    "print (karpathy_obj)\n",
    "\n",
    "\n",
    "\n",
    "# fastai_url = \"https://www.youtube.com/watch?v=F4tvM4Vb3A0&list=PLfYUBJiXbdtSvpQjSnJJ_PmDQB_VyT5iU\"\n",
    "# fastai_obj = youtube_url_to_mp3(fastai_url)\n",
    "# print (fastai_obj)\n"
   ]
  },
  {
   "cell_type": "code",
   "execution_count": null,
   "metadata": {},
   "outputs": [],
   "source": [
    "def get_urls_from_youtube_playlist(playlist_url):\n",
    "    \"\"\"Returns a list of video urls from a youtube playlist\"\"\"\n",
    "    playlist = Playlist(playlist_url)\n",
    "    return playlist.video_urls"
   ]
  },
  {
   "cell_type": "code",
   "execution_count": 67,
   "metadata": {},
   "outputs": [
    {
     "data": {
      "text/plain": [
       "['VMj-3S1tku0', 'PaCmpygFfXo', 'TCH_1BHY58I', 'P6sfmUTpUmc', 'q8SA3rM6ckI']"
      ]
     },
     "execution_count": 67,
     "metadata": {},
     "output_type": "execute_result"
    }
   ],
   "source": [
    "karpathy_playlist = \"https://www.youtube.com/playlist?list=PLAqhIrjkxbuWI23v9cThsA9GvCAUhRvKZ\"\n",
    "\n",
    "karpathy_urls = get_urls_from_youtube_playlist(karpathy_playlist)\n",
    "karpathy_playlist_id = extract.playlist_id(karpathy_playlist)\n",
    "\n",
    "karpathy_playlist_vid_ids = [extract.video_id(url) for url in karpathy_urls]\n",
    "\n",
    "karpathy_playlist_vid_ids"
   ]
  },
  {
   "cell_type": "code",
   "execution_count": 92,
   "metadata": {},
   "outputs": [
    {
     "name": "stdout",
     "output_type": "stream",
     "text": [
      "Lex Clips Lex Fridman Podcast full episode: https://www.youtube.com/watch?v=cdiD-9MMpb0\n",
      "Please support this podcast by checking out our sponsors:\n",
      "- Eight Sleep: https://www.eightsleep.com/lex to get special savings\n",
      "- BetterHelp: https://betterhelp.com/lex to get 10% off\n",
      "- Fundrise: https://fundrise.com/lex\n",
      "- Athletic Greens: https://athleticgreens.com/lex to get 1 month of fish oil\n",
      "\n",
      "GUEST BIO:\n",
      "Andrej Karpathy is a legendary AI researcher, engineer, and educator. He's the former director of AI at Tesla, a founding member of OpenAI, and an educator at Stanford.\n",
      "\n",
      "PODCAST INFO:\n",
      "Podcast website: https://lexfridman.com/podcast\n",
      "Apple Podcasts: https://apple.co/2lwqZIr\n",
      "Spotify: https://spoti.fi/2nEwCF8\n",
      "RSS: https://lexfridman.com/feed/podcast/\n",
      "Full episodes playlist: https://www.youtube.com/playlist?list=PLrAXtmErZgOdP_8GztsuKi9nrraNbKKp4\n",
      "Clips playlist: https://www.youtube.com/playlist?list=PLrAXtmErZgOeciFP3CBCIEElOJeitOr41\n",
      "\n",
      "SOCIAL:\n",
      "- Twitter: https://twitter.com/lexfridman\n",
      "- LinkedIn: https://www.linkedin.com/in/lexfridman\n",
      "- Facebook: https://www.facebook.com/lexfridman\n",
      "- Instagram: https://www.instagram.com/lexfridman\n",
      "- Medium: https://medium.com/@lexfridman\n",
      "- Reddit: https://reddit.com/r/lexfridman\n",
      "- Support on Patreon: https://www.patreon.com/lexfridman 186 Andrej Karpathy: Self-driving is really hard | Lex Fridman Podcast Clips ['ai', 'ai clips', 'ai podcast', 'ai podcast clips', 'andrej karpathy', 'artificial intelligence', 'artificial intelligence podcast', 'computer science', 'consciousness', 'deep learning', 'einstein', 'elon musk', 'engineering', 'friedman', 'joe rogan', 'lex ai', 'lex clips', 'lex fridman', 'lex fridman podcast', 'lex friedman', 'lex mit', 'lex podcast', 'machine learning', 'math', 'math podcast', 'mathematics', 'mit ai', 'philosophy', 'physics', 'physics podcast', 'science', 'tech', 'tech podcast', 'technology', 'turing'] https://www.youtube.com/channel/UCJIfeSCssxSC_Dhc5s7woww\n"
     ]
    }
   ],
   "source": [
    "from importlib.metadata import metadata\n",
    "from operator import length_hint\n",
    "\n",
    "print_yt(karpathy_obj)"
   ]
  },
  {
   "cell_type": "code",
   "execution_count": 102,
   "metadata": {},
   "outputs": [],
   "source": [
    "## DEFINE CUSTOM VARIABLES FOR THIS PLAYLIST \n",
    "\n",
    "playlist_url = karpathy_playlist\n",
    "current_person = \"Andrej Karpathy\"\n",
    "# playlist_url = \"\" \n"
   ]
  },
  {
   "cell_type": "code",
   "execution_count": 103,
   "metadata": {},
   "outputs": [
    {
     "name": "stdout",
     "output_type": "stream",
     "text": [
      "video <Stream: itag=\"139\" mime_type=\"audio/mp4\" abr=\"48kbps\" acodec=\"mp4a.40.5\" progressive=\"False\" type=\"audio\">\n",
      "video <Stream: itag=\"139\" mime_type=\"audio/mp4\" abr=\"48kbps\" acodec=\"mp4a.40.5\" progressive=\"False\" type=\"audio\">\n",
      "video <Stream: itag=\"139\" mime_type=\"audio/mp4\" abr=\"48kbps\" acodec=\"mp4a.40.5\" progressive=\"False\" type=\"audio\">\n",
      "video <Stream: itag=\"139\" mime_type=\"audio/mp4\" abr=\"48kbps\" acodec=\"mp4a.40.5\" progressive=\"False\" type=\"audio\">\n",
      "video <Stream: itag=\"139\" mime_type=\"audio/mp4\" abr=\"48kbps\" acodec=\"mp4a.40.5\" progressive=\"False\" type=\"audio\">\n"
     ]
    }
   ],
   "source": [
    "# loop through a playlist \n",
    "video_metadata = {}\n",
    "\n",
    "vid_urls = get_urls_from_youtube_playlist(playlist_url)\n",
    "\n",
    "def create_yt_metadata(yt, url, person):\n",
    "\n",
    "    vid_json_metadata = {\n",
    "        \"current_person\": person,\n",
    "        \"video_id\": extract.video_id(url),\n",
    "        \"url\": url,\n",
    "        \"title\": yt.title,\n",
    "        \"description\": yt.description,\n",
    "        \"author\": yt.author,\n",
    "        \"keywords\": yt.keywords,\n",
    "        \"channel_url\": yt.channel_url,\n",
    "        \"length\": yt.length,\n",
    "        \"views\": yt.views,\n",
    "        \"whisper_transcription\": \"<currently empty while testing\",\n",
    "    }\n",
    "\n",
    "    return vid_json_metadata\n",
    "\n",
    "\n",
    "# ============================================\n",
    "\n",
    "# get all the videos \n",
    "for url in vid_urls:\n",
    "    yt = youtube_url_to_mp3(url)\n",
    "    yt_video_id = extract.video_id(url)\n",
    "    # get the json object and then save it \n",
    "    \n",
    "    vid_json_metadata = create_yt_metadata(yt, url, current_person)\n",
    "    video_metadata[url] = vid_json_metadata\n",
    "\n",
    "# create a json object from video_metadata\n",
    "# json_data = json.dumps(video_metadata)\n",
    "\n",
    "with open('video_metadata.json', 'w') as f:\n",
    "    json.dump(video_metadata, f, indent=2)\n",
    "\n"
   ]
  },
  {
   "cell_type": "code",
   "execution_count": null,
   "metadata": {},
   "outputs": [],
   "source": []
  },
  {
   "cell_type": "code",
   "execution_count": null,
   "metadata": {},
   "outputs": [],
   "source": []
  },
  {
   "cell_type": "code",
   "execution_count": null,
   "metadata": {},
   "outputs": [],
   "source": [
    "karpathy_monologue_playlist = \"https://www.youtube.com/playlist?list=PL9dX7Elz2t0-c4Sy7trowtrDlbRWaoi6f\"\n",
    "playlist_urls = get_urls_from_youtube_playlist(karpathy_monologue_playlist)"
   ]
  },
  {
   "cell_type": "code",
   "execution_count": null,
   "metadata": {},
   "outputs": [],
   "source": []
  },
  {
   "cell_type": "code",
   "execution_count": null,
   "metadata": {},
   "outputs": [],
   "source": [
    "\n"
   ]
  },
  {
   "cell_type": "code",
   "execution_count": null,
   "metadata": {},
   "outputs": [],
   "source": []
  }
 ],
 "metadata": {
  "kernelspec": {
   "display_name": "Python 3.10.4 ('ml')",
   "language": "python",
   "name": "python3"
  },
  "language_info": {
   "codemirror_mode": {
    "name": "ipython",
    "version": 3
   },
   "file_extension": ".py",
   "mimetype": "text/x-python",
   "name": "python",
   "nbconvert_exporter": "python",
   "pygments_lexer": "ipython3",
   "version": "3.10.4"
  },
  "orig_nbformat": 4,
  "vscode": {
   "interpreter": {
    "hash": "d905c6a59c21f0f46be93fdc832728644d115a3fdfd57971d06d899b53e0576e"
   }
  }
 },
 "nbformat": 4,
 "nbformat_minor": 2
}
