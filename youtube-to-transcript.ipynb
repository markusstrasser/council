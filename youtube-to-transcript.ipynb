{
 "cells": [
  {
   "cell_type": "code",
   "execution_count": 1,
   "metadata": {},
   "outputs": [],
   "source": [
    "# importing packages\n",
    "from pytube import YouTube, Playlist, extract, helpers\n",
    "import os\n",
    "import json"
   ]
  },
  {
   "cell_type": "code",
   "execution_count": 2,
   "metadata": {},
   "outputs": [],
   "source": [
    "# https://www.geeksforgeeks.org/download-video-in-mp3-format-using-pytube/\n",
    "def youtube_url_to_mp3(yt_url, playlist_path=\"mp3/\"):\n",
    "    # url input from user\n",
    "    yt = YouTube(yt_url)\n",
    "    # extract only audio\n",
    "    video = yt.streams.filter(only_audio=True).first()\n",
    "\n",
    "    destination = playlist_path + '/'\n",
    "    \n",
    "    # download the file\n",
    "    out_file = video.download(output_path=destination)\n",
    "    \n",
    "    # save the file\n",
    "    base, ext = os.path.splitext(out_file) \n",
    "    filename = destination + extract.video_id(yt_url) + '.mp3'\n",
    "    os.rename(out_file, filename) \n",
    "\n",
    "    # # save the file\n",
    "    # base, ext = os.path.splitext(out_file)\n",
    "    # new_file = base + '.mp3'\n",
    "    # os.rename(out_file, new_file)\n",
    "\n",
    "    print('\\n created MP3 for' + yt_url + ' at ' + filename)\n",
    "\n",
    "    # print(\"Downloaded successfully: \\n\", new_file)\n",
    "    return yt, filename \n"
   ]
  },
  {
   "cell_type": "code",
   "execution_count": 3,
   "metadata": {},
   "outputs": [
    {
     "name": "stdout",
     "output_type": "stream",
     "text": [
      "\n",
      " created MP3 forhttps://www.youtube.com/watch?v=caWEOyNsU3Y at mp3//caWEOyNsU3Y.mp3\n",
      "(<pytube.__main__.YouTube object: videoId=caWEOyNsU3Y>, 'mp3//caWEOyNsU3Y.mp3')\n"
     ]
    }
   ],
   "source": [
    "#karpathy_url = \"https://www.youtube.com/watch?v=VMj-3S1tku0&list=PLAqhIrjkxbuWI23v9cThsA9GvCAUhRvKZ&index=1&t=112s\"\n",
    "karpathy_url = \"https://www.youtube.com/watch?v=caWEOyNsU3Y\"\n",
    "karpathy_obj = youtube_url_to_mp3(karpathy_url)\n",
    "print (karpathy_obj)\n",
    "\n",
    "# fastai_url = \"https://www.youtube.com/watch?v=F4tvM4Vb3A0&list=PLfYUBJiXbdtSvpQjSnJJ_PmDQB_VyT5iU\"\n",
    "# fastai_obj = youtube_url_to_mp3(fastai_url)\n",
    "# print (fastai_obj)\n"
   ]
  },
  {
   "cell_type": "code",
   "execution_count": 4,
   "metadata": {},
   "outputs": [],
   "source": [
    "def get_urls_from_youtube_playlist(playlist_url):\n",
    "    \"\"\"Returns a list of video urls from a youtube playlist\"\"\"\n",
    "    playlist = Playlist(playlist_url)\n",
    "    return playlist.video_urls"
   ]
  },
  {
   "cell_type": "code",
   "execution_count": 5,
   "metadata": {},
   "outputs": [
    {
     "data": {
      "text/plain": [
       "['VMj-3S1tku0', 'PaCmpygFfXo', 'TCH_1BHY58I', 'P6sfmUTpUmc', 'q8SA3rM6ckI']"
      ]
     },
     "execution_count": 5,
     "metadata": {},
     "output_type": "execute_result"
    }
   ],
   "source": [
    "karpathy_playlist = \"https://www.youtube.com/playlist?list=PLAqhIrjkxbuWI23v9cThsA9GvCAUhRvKZ\"\n",
    "\n",
    "karpathy_urls = get_urls_from_youtube_playlist(karpathy_playlist)\n",
    "karpathy_playlist_id = extract.playlist_id(karpathy_playlist)\n",
    "\n",
    "karpathy_playlist_vid_ids = [extract.video_id(url) for url in karpathy_urls]\n",
    "\n",
    "karpathy_playlist_vid_ids"
   ]
  },
  {
   "cell_type": "code",
   "execution_count": 6,
   "metadata": {},
   "outputs": [],
   "source": [
    "# Andrej Karpathy \n",
    "karpathy_playlist_url = \"https://www.youtube.com/playlist?list=PL9dX7Elz2t0-c4Sy7trowtrDlbRWaoi6f\"\n",
    "\n",
    "karpathy_playlist_shorts_url = \"https://www.youtube.com/playlist?list=PL9zq2zalZB1ID7wBz5fi9cQ8jZB3FH07q\"\n",
    "\n",
    "# Fei Fei Li\n",
    "feifei_playlist_url = \"https://youtube.com/playlist?list=PL9dX7Elz2t08Az4p5MghL1EpfQXs9urPx\"\n",
    "\n",
    "# Yann LeCun\n",
    "lecun_playlist_url = \"https://youtube.com/playlist?list=PL9dX7Elz2t09sz_rNmRDPCux-ZGC09vWS\""
   ]
  },
  {
   "cell_type": "code",
   "execution_count": 7,
   "metadata": {},
   "outputs": [
    {
     "name": "stdout",
     "output_type": "stream",
     "text": [
      "Requirement already satisfied: importlib-metadata in /usr/local/Caskroom/miniconda/base/envs/py37/lib/python3.7/site-packages (1.7.0)\n",
      "Requirement already satisfied: zipp>=0.5 in /usr/local/Caskroom/miniconda/base/envs/py37/lib/python3.7/site-packages (from importlib-metadata) (3.10.0)\n"
     ]
    },
    {
     "ename": "ModuleNotFoundError",
     "evalue": "No module named 'importlib.metadata'",
     "output_type": "error",
     "traceback": [
      "\u001b[0;31m---------------------------------------------------------------------------\u001b[0m",
      "\u001b[0;31mModuleNotFoundError\u001b[0m                       Traceback (most recent call last)",
      "\u001b[0;32m/var/folders/sv/kv3fqpqd16b0mkj8tbc9fgnh0000gn/T/ipykernel_9824/4103083619.py\u001b[0m in \u001b[0;36m<module>\u001b[0;34m\u001b[0m\n\u001b[1;32m      1\u001b[0m \u001b[0mget_ipython\u001b[0m\u001b[0;34m(\u001b[0m\u001b[0;34m)\u001b[0m\u001b[0;34m.\u001b[0m\u001b[0msystem\u001b[0m\u001b[0;34m(\u001b[0m\u001b[0;34m'pip3 install importlib-metadata'\u001b[0m\u001b[0;34m)\u001b[0m\u001b[0;34m\u001b[0m\u001b[0;34m\u001b[0m\u001b[0m\n\u001b[1;32m      2\u001b[0m \u001b[0;34m\u001b[0m\u001b[0m\n\u001b[0;32m----> 3\u001b[0;31m \u001b[0;32mfrom\u001b[0m \u001b[0mimportlib\u001b[0m\u001b[0;34m.\u001b[0m\u001b[0mmetadata\u001b[0m \u001b[0;32mimport\u001b[0m \u001b[0mmetadata\u001b[0m\u001b[0;34m\u001b[0m\u001b[0;34m\u001b[0m\u001b[0m\n\u001b[0m\u001b[1;32m      4\u001b[0m \u001b[0;32mfrom\u001b[0m \u001b[0moperator\u001b[0m \u001b[0;32mimport\u001b[0m \u001b[0mlength_hint\u001b[0m\u001b[0;34m\u001b[0m\u001b[0;34m\u001b[0m\u001b[0m\n",
      "\u001b[0;31mModuleNotFoundError\u001b[0m: No module named 'importlib.metadata'"
     ]
    }
   ],
   "source": [
    "!pip3 install importlib-metadata\n",
    "\n",
    "from importlib.metadata import metadata\n",
    "from operator import length_hint"
   ]
  },
  {
   "cell_type": "code",
   "execution_count": null,
   "metadata": {},
   "outputs": [],
   "source": [
    "\n"
   ]
  },
  {
   "cell_type": "code",
   "execution_count": null,
   "metadata": {},
   "outputs": [],
   "source": []
  },
  {
   "cell_type": "code",
   "execution_count": null,
   "metadata": {},
   "outputs": [],
   "source": []
  },
  {
   "cell_type": "code",
   "execution_count": 8,
   "metadata": {},
   "outputs": [],
   "source": [
    "def create_yt_metadata(yt, url,person, whisper_result=''):\n",
    "\n",
    "    vid_json_metadata = {\n",
    "        \"current_person\": person,\n",
    "        \"video_id\": extract.video_id(url),\n",
    "        \"url\": url,\n",
    "        \"title\": yt.title,\n",
    "        \"description\": yt.description,\n",
    "        \"author\": yt.author,\n",
    "        \"keywords\": yt.keywords,\n",
    "        \"channel_url\": yt.channel_url,\n",
    "        \"length\": yt.length,\n",
    "        \"views\": yt.views,\n",
    "        \"whisper_result\": whisper_result,\n",
    "    }\n",
    "\n",
    "    return vid_json_metadata\n"
   ]
  },
  {
   "cell_type": "code",
   "execution_count": 9,
   "metadata": {},
   "outputs": [
    {
     "name": "stdout",
     "output_type": "stream",
     "text": [
      "\n",
      " created MP3 forhttps://www.youtube.com/watch?v=_JuQcodHANs at karpathy_shorts/_JuQcodHANs.mp3\n",
      "yt <pytube.__main__.YouTube object: videoId=_JuQcodHANs>\n",
      "path karpathy_shorts/_JuQcodHANs.mp3\n",
      "created json metadata for Andrej Karpathy: Setting ambitious goals at Tesla | Lex Fridman Podcast Clips\n",
      "\n",
      " created MP3 forhttps://www.youtube.com/watch?v=v5l-jPsAK7k at karpathy_shorts/v5l-jPsAK7k.mp3\n",
      "yt <pytube.__main__.YouTube object: videoId=v5l-jPsAK7k>\n",
      "path karpathy_shorts/v5l-jPsAK7k.mp3\n",
      "created json metadata for Path prediction (Andrej Karpathy)\n",
      "\n",
      " created MP3 forhttps://www.youtube.com/watch?v=x0_404KeDIc at karpathy_shorts/x0_404KeDIc.mp3\n",
      "yt <pytube.__main__.YouTube object: videoId=x0_404KeDIc>\n",
      "path karpathy_shorts/x0_404KeDIc.mp3\n",
      "created json metadata for Depth From Vision: Self-Supervision (Andrej Karpathy)\n"
     ]
    }
   ],
   "source": [
    "## DEFINE CUSTOM VARIABLES FOR THIS PLAYLIST \n",
    "\n",
    "# playlist_url = \"https://www.youtube.com/playlist?list=PL9zq2zalZB1ID7wBz5fi9cQ8jZB3FH07q\" #karpathy shorts \n",
    "\n",
    "playlist_url = feifei_playlist_url\n",
    "playlist_path = \"feifeili\"\n",
    "current_person = \"Fei-Fei Li\"\n",
    "\n",
    "# ============================================\n",
    "\n",
    "# # loop through a playlist \n",
    "video_metadata = {}\n",
    "\n",
    "# ============================================\n",
    "# THE MAIN LOOP \n",
    "# ============================================\n",
    "\n",
    "vid_urls = get_urls_from_youtube_playlist(playlist_url)\n",
    "\n",
    "# get all the videos \n",
    "for url in vid_urls:\n",
    "\n",
    "    try: \n",
    "    \n",
    "        ## =======\n",
    "        ## Save the Video as an MP3\n",
    "        yt, path = youtube_url_to_mp3(url, playlist_path)\n",
    "        print ('yt', yt)\n",
    "        print ('path', path)\n",
    "\n",
    "        # transcribe the resulting mp3 file\n",
    "        # try: \n",
    "        #     whisper_result = model.transcribe(path)\n",
    "        #     print ('created whisper result for ' + path)\n",
    "        # except Exception as e: \n",
    "        #     print ('could not create whisper result for ' + path)\n",
    "        #     print (e)\n",
    "        #     whisper_result = ''\n",
    "\n",
    "        # save a json object for the whisper_result\n",
    "\n",
    "        # create the json object and then save it \n",
    "        yt_video_id = extract.video_id(url)\n",
    "        vid_json_metadata = create_yt_metadata(yt, url, current_person, whisper_result='')\n",
    "        video_metadata[url] = vid_json_metadata\n",
    "\n",
    "        print ('created json metadata for ' + yt.title)\n",
    "\n",
    "    except Exception as e:\n",
    "        print (e)\n",
    "    \n",
    "\n",
    "# create a json object from video_metadata\n",
    "# json_data = json.dumps(video_metadata)\n",
    "\n",
    "with open(playlist_path + '__video_metadata.json', 'w') as f:\n",
    "    json.dump(video_metadata, f, indent=2)"
   ]
  },
  {
   "cell_type": "code",
   "execution_count": 10,
   "metadata": {},
   "outputs": [],
   "source": [
    "def make_yt_url_from_video_id(video_id):\n",
    "    return \"https://www.youtube.com/watch?v=\" + video_id\n",
    "    "
   ]
  },
  {
   "cell_type": "code",
   "execution_count": 12,
   "metadata": {},
   "outputs": [
    {
     "name": "stdout",
     "output_type": "stream",
     "text": [
      "karpathy_shorts\n"
     ]
    }
   ],
   "source": [
    "# open the json file\n",
    "\n",
    "merged_folder_path = 'final_data' \n",
    "\n",
    "print (playlist_path)\n",
    "\n",
    "with open(playlist_path + '__video_metadata.json') as f:\n",
    "    data = json.load(f)\n",
    "    #edit the \"whisper_object\" key in the json file\n",
    "    for url in data:\n",
    "        video_id = data[url]['video_id']\n",
    "        # get the whisper object from the video id\n",
    "        # load the whiser_object json file \n",
    "        with open('whisper_objects/whisper_objects__' + playlist_path + '.json') as f:\n",
    "            whisper_data = json.load(f)\n",
    "\n",
    "            # whisper_object = get_whisper_object_from_video_id(video_id)\n",
    "            # print ('f text \\n', f.read())\n",
    "\n",
    "            data[url]['whisper_result'] = whisper_data[url]\n",
    "    # save the json file\n",
    "    with open(str(merged_folder_path +'/'+playlist_path + '__video_metadata_MERGED.json'), 'w') as f:\n",
    "        json.dump(data, f, indent=2)\n",
    "\n"
   ]
  },
  {
   "cell_type": "code",
   "execution_count": null,
   "metadata": {},
   "outputs": [],
   "source": [
    "# print(data)"
   ]
  },
  {
   "cell_type": "code",
   "execution_count": null,
   "metadata": {},
   "outputs": [],
   "source": [
    "\n"
   ]
  },
  {
   "cell_type": "code",
   "execution_count": null,
   "metadata": {},
   "outputs": [],
   "source": []
  }
 ],
 "metadata": {
  "kernelspec": {
   "display_name": "Python 3.7.8 ('py37')",
   "language": "python",
   "name": "python3"
  },
  "language_info": {
   "codemirror_mode": {
    "name": "ipython",
    "version": 3
   },
   "file_extension": ".py",
   "mimetype": "text/x-python",
   "name": "python",
   "nbconvert_exporter": "python",
   "pygments_lexer": "ipython3",
   "version": "3.7.8"
  },
  "orig_nbformat": 4,
  "vscode": {
   "interpreter": {
    "hash": "81fe51bcc5d661a372a4fe8322017ed59d9fda67885002f804bb9ccf8a5028be"
   }
  }
 },
 "nbformat": 4,
 "nbformat_minor": 2
}
