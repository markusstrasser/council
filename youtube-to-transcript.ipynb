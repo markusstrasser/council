{
 "cells": [
  {
   "cell_type": "code",
   "execution_count": 1,
   "metadata": {},
   "outputs": [],
   "source": [
    "# importing packages\n",
    "from pytube import YouTube, Playlist, extract, helpers\n",
    "import os\n",
    "import json"
   ]
  },
  {
   "cell_type": "code",
   "execution_count": 2,
   "metadata": {},
   "outputs": [
    {
     "name": "stderr",
     "output_type": "stream",
     "text": [
      "/usr/local/Caskroom/miniconda/base/envs/ml/lib/python3.10/site-packages/tqdm/auto.py:22: TqdmWarning: IProgress not found. Please update jupyter and ipywidgets. See https://ipywidgets.readthedocs.io/en/stable/user_install.html\n",
      "  from .autonotebook import tqdm as notebook_tqdm\n"
     ]
    }
   ],
   "source": [
    "import whisper\n",
    "import torch  # install steps: pytorch.org\n",
    "\n",
    "device = \"cuda\" if torch.cuda.is_available() else \"cpu\"\n",
    "\n",
    "from tqdm.auto import tqdm  # !pip install tqdm|"
   ]
  },
  {
   "cell_type": "code",
   "execution_count": 3,
   "metadata": {},
   "outputs": [],
   "source": [
    "\n",
    "# https://www.geeksforgeeks.org/download-video-in-mp3-format-using-pytube/\n",
    "def youtube_url_to_mp3(yt_url, save_path=\"mp3/\"):\n",
    "    # url input from user\n",
    "    yt = YouTube(yt_url)\n",
    "    # extract only audio\n",
    "    video = yt.streams.filter(only_audio=True).first()\n",
    "\n",
    "    destination = save_path + '/'\n",
    "    \n",
    "    # download the file\n",
    "    out_file = video.download(output_path=destination)\n",
    "    \n",
    "    # save the file\n",
    "    base, ext = os.path.splitext(out_file) \n",
    "    filename = destination + extract.video_id(yt_url) + '.mp3'\n",
    "    os.rename(out_file, filename) \n",
    "\n",
    "    # # save the file\n",
    "    # base, ext = os.path.splitext(out_file)\n",
    "    # new_file = base + '.mp3'\n",
    "    # os.rename(out_file, new_file)\n",
    "\n",
    "    print('\\n created MP3 for' + yt_url + ' at ' + filename)\n",
    "\n",
    "    # print(\"Downloaded successfully: \\n\", new_file)\n",
    "    return yt, filename \n"
   ]
  },
  {
   "cell_type": "code",
   "execution_count": 4,
   "metadata": {},
   "outputs": [
    {
     "name": "stdout",
     "output_type": "stream",
     "text": [
      "\n",
      " created MP3 forhttps://www.youtube.com/watch?v=caWEOyNsU3Y at mp3//caWEOyNsU3Y.mp3\n",
      "(<pytube.__main__.YouTube object: videoId=caWEOyNsU3Y>, 'mp3//caWEOyNsU3Y.mp3')\n"
     ]
    }
   ],
   "source": [
    "#karpathy_url = \"https://www.youtube.com/watch?v=VMj-3S1tku0&list=PLAqhIrjkxbuWI23v9cThsA9GvCAUhRvKZ&index=1&t=112s\"\n",
    "karpathy_url = \"https://www.youtube.com/watch?v=caWEOyNsU3Y\"\n",
    "karpathy_obj = youtube_url_to_mp3(karpathy_url)\n",
    "print (karpathy_obj)\n",
    "\n",
    "\n",
    "\n",
    "# fastai_url = \"https://www.youtube.com/watch?v=F4tvM4Vb3A0&list=PLfYUBJiXbdtSvpQjSnJJ_PmDQB_VyT5iU\"\n",
    "# fastai_obj = youtube_url_to_mp3(fastai_url)\n",
    "# print (fastai_obj)\n"
   ]
  },
  {
   "cell_type": "code",
   "execution_count": 5,
   "metadata": {},
   "outputs": [],
   "source": [
    "def get_urls_from_youtube_playlist(playlist_url):\n",
    "    \"\"\"Returns a list of video urls from a youtube playlist\"\"\"\n",
    "    playlist = Playlist(playlist_url)\n",
    "    return playlist.video_urls"
   ]
  },
  {
   "cell_type": "code",
   "execution_count": 6,
   "metadata": {},
   "outputs": [
    {
     "data": {
      "text/plain": [
       "['VMj-3S1tku0', 'PaCmpygFfXo', 'TCH_1BHY58I', 'P6sfmUTpUmc', 'q8SA3rM6ckI']"
      ]
     },
     "execution_count": 6,
     "metadata": {},
     "output_type": "execute_result"
    }
   ],
   "source": [
    "karpathy_playlist = \"https://www.youtube.com/playlist?list=PLAqhIrjkxbuWI23v9cThsA9GvCAUhRvKZ\"\n",
    "\n",
    "karpathy_urls = get_urls_from_youtube_playlist(karpathy_playlist)\n",
    "karpathy_playlist_id = extract.playlist_id(karpathy_playlist)\n",
    "\n",
    "karpathy_playlist_vid_ids = [extract.video_id(url) for url in karpathy_urls]\n",
    "\n",
    "karpathy_playlist_vid_ids"
   ]
  },
  {
   "cell_type": "code",
   "execution_count": 7,
   "metadata": {},
   "outputs": [],
   "source": [
    "from importlib.metadata import metadata\n",
    "from operator import length_hint"
   ]
  },
  {
   "cell_type": "code",
   "execution_count": 8,
   "metadata": {},
   "outputs": [],
   "source": [
    "def create_yt_metadata(yt, url,person, whisper_result=''):\n",
    "\n",
    "    vid_json_metadata = {\n",
    "        \"current_person\": person,\n",
    "        \"video_id\": extract.video_id(url),\n",
    "        \"url\": url,\n",
    "        \"title\": yt.title,\n",
    "        \"description\": yt.description,\n",
    "        \"author\": yt.author,\n",
    "        \"keywords\": yt.keywords,\n",
    "        \"channel_url\": yt.channel_url,\n",
    "        \"length\": yt.length,\n",
    "        \"views\": yt.views,\n",
    "        \"whisper_result\": whisper_result,\n",
    "    }\n",
    "\n",
    "    return vid_json_metadata\n"
   ]
  },
  {
   "cell_type": "code",
   "execution_count": 9,
   "metadata": {},
   "outputs": [],
   "source": [
    "import whisper\n",
    "import torch  # install steps: pytorch.org\n",
    "\n",
    "device = \"cuda\" if torch.cuda.is_available() else \"cpu\"\n",
    "\n",
    "from tqdm.auto import tqdm  # !pip install tqdm|"
   ]
  },
  {
   "cell_type": "code",
   "execution_count": 10,
   "metadata": {},
   "outputs": [],
   "source": [
    "model = whisper.load_model(\"tiny.en\").to(device) # change to \"large.en\" for larger model"
   ]
  },
  {
   "cell_type": "code",
   "execution_count": null,
   "metadata": {},
   "outputs": [],
   "source": [
    "\n"
   ]
  },
  {
   "cell_type": "code",
   "execution_count": null,
   "metadata": {},
   "outputs": [],
   "source": []
  },
  {
   "cell_type": "code",
   "execution_count": null,
   "metadata": {},
   "outputs": [],
   "source": []
  },
  {
   "cell_type": "code",
   "execution_count": 14,
   "metadata": {},
   "outputs": [],
   "source": [
    "# Andrej Karpathy \n",
    "karpathy_playlist_url = \"https://www.youtube.com/playlist?list=PL9dX7Elz2t0-c4Sy7trowtrDlbRWaoi6f\"\n",
    "\n",
    "# Fei Fei Li\n",
    "feifei_playlist_url = \"https://youtube.com/playlist?list=PL9dX7Elz2t08Az4p5MghL1EpfQXs9urPx\"\n",
    "\n",
    "# Yann LeCun\n",
    "lecun_playlist_url = \"https://youtube.com/playlist?list=PL9dX7Elz2t09sz_rNmRDPCux-ZGC09vWS\""
   ]
  },
  {
   "cell_type": "code",
   "execution_count": 16,
   "metadata": {},
   "outputs": [
    {
     "name": "stdout",
     "output_type": "stream",
     "text": [
      "\n",
      " created MP3 forhttps://www.youtube.com/watch?v=DokLw1tILlw at lecun/DokLw1tILlw.mp3\n",
      "yt <pytube.__main__.YouTube object: videoId=DokLw1tILlw>\n",
      "path lecun/DokLw1tILlw.mp3\n",
      "created json metadata for Yann LeCun: \"A Path Towards Autonomous AI\", Baidu 2022-02-22\n",
      "\n",
      " created MP3 forhttps://www.youtube.com/watch?v=VRzvpV9DZ8Y at lecun/VRzvpV9DZ8Y.mp3\n",
      "yt <pytube.__main__.YouTube object: videoId=VRzvpV9DZ8Y>\n",
      "path lecun/VRzvpV9DZ8Y.mp3\n",
      "created json metadata for Yann LeCun: From Machine Learning to Autonomous Intelligence\n"
     ]
    }
   ],
   "source": [
    "## DEFINE CUSTOM VARIABLES FOR THIS PLAYLIST \n",
    "\n",
    "# playlist_url = \"https://www.youtube.com/playlist?list=PL9zq2zalZB1ID7wBz5fi9cQ8jZB3FH07q\" #karpathy shorts \n",
    "\n",
    "playlist_url = lecun_playlist_url\n",
    "current_person = \"Yann LeCun\"\n",
    "save_path = \"lecun\"\n",
    "\n",
    "# ============================================\n",
    "\n",
    "# # loop through a playlist \n",
    "video_metadata = {}\n",
    "\n",
    "# ============================================\n",
    "# THE MAIN LOOP \n",
    "# ============================================\n",
    "\n",
    "vid_urls = get_urls_from_youtube_playlist(playlist_url)\n",
    "\n",
    "# get all the videos \n",
    "for url in vid_urls:\n",
    "\n",
    "    try: \n",
    "    \n",
    "        ## =======\n",
    "        ## Save the Video as an MP3\n",
    "        yt, path = youtube_url_to_mp3(url, save_path)\n",
    "        print ('yt', yt)\n",
    "        print ('path', path)\n",
    "\n",
    "        # transcribe the resulting mp3 file\n",
    "        # try: \n",
    "        #     whisper_result = model.transcribe(path)\n",
    "        #     print ('created whisper result for ' + path)\n",
    "        # except Exception as e: \n",
    "        #     print ('could not create whisper result for ' + path)\n",
    "        #     print (e)\n",
    "        #     whisper_result = ''\n",
    "\n",
    "        # save a json object for the whisper_result\n",
    "\n",
    "        # create the json object and then save it \n",
    "        yt_video_id = extract.video_id(url)\n",
    "        vid_json_metadata = create_yt_metadata(yt, url, current_person, whisper_result)\n",
    "        video_metadata[url] = vid_json_metadata\n",
    "\n",
    "        print ('created json metadata for ' + yt.title)\n",
    "\n",
    "    except Exception as e:\n",
    "        print (e)\n",
    "    \n",
    "\n",
    "# create a json object from video_metadata\n",
    "# json_data = json.dumps(video_metadata)\n",
    "\n",
    "with open(save_path + '__video_metadata.json', 'w') as f:\n",
    "    json.dump(video_metadata, f, indent=2)\n",
    "\n"
   ]
  },
  {
   "cell_type": "code",
   "execution_count": null,
   "metadata": {},
   "outputs": [],
   "source": []
  },
  {
   "cell_type": "code",
   "execution_count": null,
   "metadata": {},
   "outputs": [],
   "source": []
  },
  {
   "cell_type": "code",
   "execution_count": null,
   "metadata": {},
   "outputs": [],
   "source": []
  },
  {
   "cell_type": "code",
   "execution_count": null,
   "metadata": {},
   "outputs": [],
   "source": [
    "\n"
   ]
  },
  {
   "cell_type": "code",
   "execution_count": null,
   "metadata": {},
   "outputs": [],
   "source": []
  }
 ],
 "metadata": {
  "kernelspec": {
   "display_name": "Python 3.10.4 ('ml')",
   "language": "python",
   "name": "python3"
  },
  "language_info": {
   "codemirror_mode": {
    "name": "ipython",
    "version": 3
   },
   "file_extension": ".py",
   "mimetype": "text/x-python",
   "name": "python",
   "nbconvert_exporter": "python",
   "pygments_lexer": "ipython3",
   "version": "3.10.4"
  },
  "orig_nbformat": 4,
  "vscode": {
   "interpreter": {
    "hash": "d905c6a59c21f0f46be93fdc832728644d115a3fdfd57971d06d899b53e0576e"
   }
  }
 },
 "nbformat": 4,
 "nbformat_minor": 2
}
