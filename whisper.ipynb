{
 "cells": [
  {
   "cell_type": "code",
   "execution_count": null,
   "metadata": {},
   "outputs": [],
   "source": [
    "!pip install -r requirements.txt"
   ]
  },
  {
   "cell_type": "code",
   "execution_count": 1,
   "metadata": {},
   "outputs": [],
   "source": [
    "import whisper\n",
    "from tqdm.auto import tqdm  # !pip install tqdm|\n",
    "\n",
    "import json\n",
    "from pathlib import Path\n",
    "\n",
    "import torch  # install steps: pytorch.org\n",
    "\n",
    "device = \"cuda\" if torch.cuda.is_available() else \"cpu\"\n"
   ]
  },
  {
   "cell_type": "code",
   "execution_count": 2,
   "metadata": {},
   "outputs": [],
   "source": [
    "# model = whisper.load_model(\"tiny.en\").to(device) # change to \"large.en\" for larger model\n",
    "\n",
    "# result = model.transcribe(path)"
   ]
  },
  {
   "cell_type": "code",
   "execution_count": 3,
   "metadata": {},
   "outputs": [],
   "source": [
    "model = whisper.load_model(\"tiny.en\").to(device) # change to \"large.en\" for larger model"
   ]
  },
  {
   "cell_type": "code",
   "execution_count": null,
   "metadata": {},
   "outputs": [],
   "source": [
    "\n"
   ]
  },
  {
   "cell_type": "code",
   "execution_count": null,
   "metadata": {},
   "outputs": [],
   "source": [
    "# THE MAIN KAHOOZY \n",
    "\n",
    "\n",
    "def mp3_path_to_whisper_objects(input_path):\n",
    "    \"\"\"Converts a directory of mp3 files to a list of whisper objects\"\"\"\n",
    "\n",
    "    print (input_path)\n",
    "    print (type(input_path))\n",
    "    # get list of MP3 audio files\n",
    "    paths = [str(x) for x in Path(input_path).glob('*.mp3')]\n",
    "\n",
    "    print(len(paths))\n",
    "    print(paths)\n",
    "    # we get the IDs like so\n",
    "    # paths[0].split('/')[-1][:-4]\n",
    "\n",
    "    whisper_objects = []\n",
    "    # for i, path in enumerate(tqdm(paths)):\n",
    "    for i, path in enumerate((paths)):\n",
    "        _id = path.split('/')[-1][:-4]\n",
    "        \n",
    "        print('path: ', path)\n",
    "        # transcribe to get speech-to-text data\n",
    "        result = model.transcribe(path)\n",
    "\n",
    "        # add results to data list\n",
    "        whisper_objects.append(result)\n",
    "        # whisper_objects.extend(result['segments'])\n",
    "\n",
    "        print ('created a whisper object for ', path)\n",
    "\n",
    "        # would be good to save results to disk here but there was some formatting error \n",
    "\n",
    "    # for now, saving all at once \n",
    "    with open('whisper_objects__' + str(input_path[2:]) +'.json', 'w') as f:\n",
    "        json.dump(whisper_objects, f, indent=2)\n",
    "\n",
    "    return whisper_objects\n",
    "\n",
    "\n",
    "# mp3_path_to_whisper_objects('./karpathy')\n",
    "\n"
   ]
  },
  {
   "cell_type": "code",
   "execution_count": 5,
   "metadata": {},
   "outputs": [
    {
     "name": "stdout",
     "output_type": "stream",
     "text": [
      "karpathy_shorts\n",
      "<class 'str'>\n",
      "0\n",
      "[]\n"
     ]
    },
    {
     "data": {
      "text/plain": [
       "[]"
      ]
     },
     "execution_count": 5,
     "metadata": {},
     "output_type": "execute_result"
    }
   ],
   "source": [
    "k = mp3_path_to_whisper_objects('./karpathy_shorts')\n",
    "k"
   ]
  },
  {
   "cell_type": "code",
   "execution_count": null,
   "metadata": {},
   "outputs": [],
   "source": [
    "mp3_path_to_whisper_objects('./lecun')\n",
    "\n",
    "mp3_path_to_whisper_objects('./feifeili')"
   ]
  },
  {
   "cell_type": "code",
   "execution_count": null,
   "metadata": {},
   "outputs": [],
   "source": [
    "s = './hihihi'\n",
    "s[2:]\n"
   ]
  },
  {
   "cell_type": "code",
   "execution_count": null,
   "metadata": {},
   "outputs": [],
   "source": []
  }
 ],
 "metadata": {
  "kernelspec": {
   "display_name": "Python 3 (ipykernel)",
   "language": "python",
   "name": "python3"
  },
  "language_info": {
   "codemirror_mode": {
    "name": "ipython",
    "version": 3
   },
   "file_extension": ".py",
   "mimetype": "text/x-python",
   "name": "python",
   "nbconvert_exporter": "python",
   "pygments_lexer": "ipython3",
   "version": "3.9.13"
  },
  "orig_nbformat": 4,
  "vscode": {
   "interpreter": {
    "hash": "5789f8957a6146cbcff8af737daa2808d842dd4a2072828d297a928ebcd7d24d"
   }
  }
 },
 "nbformat": 4,
 "nbformat_minor": 2
}
