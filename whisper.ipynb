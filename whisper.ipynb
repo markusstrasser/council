{
 "cells": [
  {
   "cell_type": "code",
   "execution_count": 3,
   "metadata": {},
   "outputs": [],
   "source": [
    "# !pip install -r requirements.txt"
   ]
  },
  {
   "cell_type": "code",
   "execution_count": 4,
   "metadata": {},
   "outputs": [
    {
     "name": "stdout",
     "output_type": "stream",
     "text": [
      "Collecting git+https://github.com/openai/whisper.git\n",
      "  Cloning https://github.com/openai/whisper.git to /tmp/pip-req-build-u6p6hiuy\n",
      "  Running command git clone --filter=blob:none --quiet https://github.com/openai/whisper.git /tmp/pip-req-build-u6p6hiuy\n"
     ]
    }
   ],
   "source": [
    "!pip install git+https://github.com/openai/whisper.git"
   ]
  },
  {
   "cell_type": "code",
   "execution_count": 2,
   "metadata": {},
   "outputs": [
    {
     "ename": "ModuleNotFoundError",
     "evalue": "No module named 'whisper'",
     "output_type": "error",
     "traceback": [
      "\u001b[0;31m---------------------------------------------------------------------------\u001b[0m",
      "\u001b[0;31mModuleNotFoundError\u001b[0m                       Traceback (most recent call last)",
      "\u001b[1;32m/Users/stephen/Dev/council/whisper.ipynb Cell 2\u001b[0m in \u001b[0;36m<cell line: 1>\u001b[0;34m()\u001b[0m\n\u001b[0;32m----> <a href='vscode-notebook-cell:/Users/stephen/Dev/council/whisper.ipynb#W5sZmlsZQ%3D%3D?line=0'>1</a>\u001b[0m \u001b[39mimport\u001b[39;00m \u001b[39mwhisper\u001b[39;00m\n\u001b[1;32m      <a href='vscode-notebook-cell:/Users/stephen/Dev/council/whisper.ipynb#W5sZmlsZQ%3D%3D?line=1'>2</a>\u001b[0m \u001b[39m# from tqdm.auto import tqdm  # !pip install tqdm|\u001b[39;00m\n\u001b[1;32m      <a href='vscode-notebook-cell:/Users/stephen/Dev/council/whisper.ipynb#W5sZmlsZQ%3D%3D?line=3'>4</a>\u001b[0m \u001b[39mimport\u001b[39;00m \u001b[39mjson\u001b[39;00m\n",
      "\u001b[0;31mModuleNotFoundError\u001b[0m: No module named 'whisper'"
     ]
    }
   ],
   "source": [
    "import whisper\n",
    "# from tqdm.auto import tqdm  # !pip install tqdm|\n",
    "\n",
    "import json\n",
    "from pathlib import Path\n",
    "\n",
    "import torch  # install steps: pytorch.org\n",
    "\n",
    "device = \"cuda\" if torch.cuda.is_available() else \"cpu\"\n"
   ]
  },
  {
   "cell_type": "code",
   "execution_count": null,
   "metadata": {},
   "outputs": [],
   "source": [
    "# model = whisper.load_model(\"tiny.en\").to(device) # change to \"large.en\" for larger model\n",
    "\n",
    "# result = model.transcribe(path)"
   ]
  },
  {
   "cell_type": "code",
   "execution_count": null,
   "metadata": {},
   "outputs": [],
   "source": [
    "model = whisper.load_model(\"tiny.en\").to(device) # change to \"large.en\" for larger model"
   ]
  },
  {
   "cell_type": "code",
   "execution_count": null,
   "metadata": {},
   "outputs": [],
   "source": [
    "def make_yt_url_from_video_id(video_id):\n",
    "    return \"https://www.youtube.com/watch?v=\" + video_id\n",
    "    "
   ]
  },
  {
   "cell_type": "code",
   "execution_count": null,
   "metadata": {},
   "outputs": [],
   "source": []
  },
  {
   "cell_type": "code",
   "execution_count": null,
   "metadata": {},
   "outputs": [],
   "source": [
    "# THE MAIN KAHOOZY \n",
    "\n",
    "\n",
    "def mp3_path_to_whisper_objects(input_path):\n",
    "    \"\"\"Converts a directory of mp3 files to a list of whisper objects\"\"\"\n",
    "\n",
    "    print (input_path)\n",
    "    print (type(input_path))\n",
    "    # get list of MP3 audio files\n",
    "    paths = [str(x) for x in Path(input_path).glob('*.mp3')]\n",
    "\n",
    "    print(len(paths))\n",
    "    print(paths)\n",
    "    # we get the IDs like so\n",
    "    # paths[0].split('/')[-1][:-4]\n",
    "\n",
    "    whisper_objects = {}\n",
    "    # for i, path in enumerate(tqdm(paths)):\n",
    "    for i, path in enumerate((paths)):\n",
    "        _id = path.split('/')[-1][:-4]\n",
    "        \n",
    "        print('i ', i, '_id ', ' path: ', path)\n",
    "        # transcribe to get speech-to-text data\n",
    "        result = model.transcribe(path)\n",
    "\n",
    "        yt_url = make_yt_url_from_video_id(_id)\n",
    "\n",
    "        # add results to data list\n",
    "        # whisper_objects.append(result)#\n",
    "\n",
    "        #add results to whisper_objects dict \n",
    "        whisper_objects[yt_url] = result\n",
    "\n",
    "        # whisper_objects.extend(result['segments'])\n",
    "\n",
    "        print ('created a whisper object for ', path)\n",
    "\n",
    "        # would be good to save results to disk here but there was some formatting error \n",
    "\n",
    "    # for now, saving all at once \n",
    "    with open('whisper_objects__' + str(input_path[2:]) +'.json', 'w') as f:\n",
    "        json.dump(whisper_objects, f, indent=2)\n",
    "\n",
    "    return whisper_objects\n",
    "\n",
    "# mp3_path_to_whisper_objects('./karpathy')\n"
   ]
  },
  {
   "cell_type": "code",
   "execution_count": null,
   "metadata": {},
   "outputs": [],
   "source": [
    "k = mp3_path_to_whisper_objects('./karpathy_shorts')\n",
    "k"
   ]
  },
  {
   "cell_type": "code",
   "execution_count": null,
   "metadata": {},
   "outputs": [],
   "source": [
    "mp3_path_to_whisper_objects('./lecun')\n",
    "\n",
    "mp3_path_to_whisper_objects('./feifeili')\n",
    "\n",
    "mp3_path_to_whisper_objects('./karpathy')"
   ]
  },
  {
   "cell_type": "code",
   "execution_count": null,
   "metadata": {},
   "outputs": [],
   "source": [
    "s = './hihihi'\n",
    "s[2:]\n"
   ]
  },
  {
   "cell_type": "code",
   "execution_count": null,
   "metadata": {},
   "outputs": [],
   "source": [
    "mp3_path_to_whisper_objects('./karpathy')"
   ]
  },
  {
   "cell_type": "code",
   "execution_count": null,
   "metadata": {},
   "outputs": [],
   "source": []
  }
 ],
 "metadata": {
  "kernelspec": {
   "display_name": "Python 3 (ipykernel)",
   "language": "python",
   "name": "python3"
  },
  "language_info": {
   "codemirror_mode": {
    "name": "ipython",
    "version": 3
   },
   "file_extension": ".py",
   "mimetype": "text/x-python",
   "name": "python",
   "nbconvert_exporter": "python",
   "pygments_lexer": "ipython3",
   "version": "3.9.13"
  },
  "orig_nbformat": 4,
  "vscode": {
   "interpreter": {
    "hash": "d905c6a59c21f0f46be93fdc832728644d115a3fdfd57971d06d899b53e0576e"
   }
  }
 },
 "nbformat": 4,
 "nbformat_minor": 2
}
