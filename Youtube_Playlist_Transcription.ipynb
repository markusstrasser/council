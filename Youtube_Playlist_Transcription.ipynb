{
  "cells": [
    {
      "cell_type": "markdown",
      "metadata": {
        "id": "view-in-github",
        "colab_type": "text"
      },
      "source": [
        "<a href=\"https://colab.research.google.com/github/markusstrasser/council/blob/main/Youtube_Playlist_Transcription.ipynb\" target=\"_parent\"><img src=\"https://colab.research.google.com/assets/colab-badge.svg\" alt=\"Open In Colab\"/></a>"
      ]
    },
    {
      "cell_type": "markdown",
      "metadata": {
        "id": "OCBF078QTfGz"
      },
      "source": [
        "## SETUP"
      ]
    },
    {
      "cell_type": "code",
      "execution_count": null,
      "metadata": {
        "cellView": "form",
        "colab": {
          "background_save": true,
          "base_uri": "https://localhost:8080/"
        },
        "id": "RYBpqPkR8kFV",
        "outputId": "6d45f221-d686-4cc1-a414-49b39078bc86"
      },
      "outputs": [
        {
          "name": "stdout",
          "output_type": "stream",
          "text": [
            "Looking in indexes: https://pypi.org/simple, https://us-python.pkg.dev/colab-wheels/public/simple/\n",
            "Requirement already satisfied: pytube in /usr/local/lib/python3.7/dist-packages (12.1.0)\n",
            "NVIDIA-SMI has failed because it couldn't communicate with the NVIDIA driver. Make sure that the latest NVIDIA driver is installed and running.\n",
            "\n",
            "\n"
          ]
        }
      ],
      "source": [
        "!pip install pytube\n",
        "!pip install -q git+https://github.com/openai/whisper.git > /dev/null\n",
        "#@markdown **NVIDIA GPU**\n",
        "import subprocess\n",
        "sub_p_res = subprocess.run(['nvidia-smi', '--query-gpu=name,memory.total,memory.free', '--format=csv,noheader'], stdout=subprocess.PIPE).stdout.decode('utf-8')\n",
        "print(sub_p_res)"
      ]
    },
    {
      "cell_type": "markdown",
      "metadata": {
        "id": "P_3CPGk_sTcu"
      },
      "source": [
        "## Define Entities (people/organizations/podcasts) and corresponding source videos"
      ]
    },
    {
      "cell_type": "code",
      "execution_count": null,
      "metadata": {
        "id": "XqBJIvumLQdC"
      },
      "outputs": [],
      "source": [
        "sources = {\n",
        "    \"Andrew Kaparthy\": [\"https://www.youtube.com/watch?v=VMj-3S1tku0&list=PLAqhIrjkxbuWI23v9cThsA9GvCAUhRvKZ\", #kapathy1\n",
        "    \"https://www.youtube.com/playlist?list=PL9dX7Elz2t0-c4Sy7trowtrDlbRWaoi6f\", #kaparthy2\n",
        "    \"https://www.youtube.com/playlist?list=PL9zq2zalZB1ID7wBz5fi9cQ8jZB3FH07q\"] #kaparthy3\n",
        "    ,\n",
        "    \"FastAI\": [\"https://www.youtube.com/watch?v=F4tvM4Vb3A0&list=PLfYUBJiXbdtSvpQjSnJJ_PmDQB_VyT5iU\"],\n",
        "    \"Fei-Fei Li\": [\"https://youtube.com/playlist?list=PL9dX7Elz2t08Az4p5MghL1EpfQXs9urPx\"],\n",
        "    \"Yann LeCun\": [\"https://youtube.com/playlist?list=PL9dX7Elz2t09sz_rNmRDPCux-ZGC09vWS\"]\n",
        "}"
      ]
    },
    {
      "cell_type": "code",
      "execution_count": null,
      "metadata": {
        "cellView": "form",
        "colab": {
          "base_uri": "https://localhost:8080/"
        },
        "id": "qusoorH98iv5",
        "outputId": "b08850e9-f50e-4841-f245-e5ccbf4cf1ca"
      },
      "outputs": [
        {
          "name": "stdout",
          "output_type": "stream",
          "text": [
            "Local Path Variables:\n",
            "\n",
            "Mounted at /content/drive\n",
            "output_path: /content/drive/MyDrive/YT/\n"
          ]
        }
      ],
      "source": [
        "#@markdown **Model and Output Paths**\n",
        "# ask for the link\n",
        "print(\"Local Path Variables:\\n\")\n",
        "\n",
        "output_path = \"/content/output/\" #@param {type:\"string\"}\n",
        "\n",
        "#@markdown **Google Drive Path Variables (Optional)**\n",
        "mount_google_drive = True #@param {type:\"boolean\"}\n",
        "force_remount = False\n",
        "\n",
        "if mount_google_drive:\n",
        "    from google.colab import drive # type: ignore\n",
        "    try:\n",
        "        drive_path = \"/content/drive\"\n",
        "        drive.mount(drive_path,force_remount=force_remount)\n",
        "        output_path_gdrive = \"/content/drive/MyDrive/YT/\" #@param {type:\"string\"}\n",
        "        output_path = output_path_gdrive\n",
        "    except:\n",
        "        print(\"...error mounting drive or with drive path variables\")\n",
        "        print(\"...reverting to default path variables\")\n",
        "\n",
        "import os\n",
        "\n",
        "os.makedirs(output_path, exist_ok=True)\n",
        "\n",
        "print(f\"output_path: {output_path}\")"
      ]
    },
    {
      "cell_type": "code",
      "execution_count": null,
      "metadata": {
        "cellView": "form",
        "id": "KDxrH43c9gNA"
      },
      "outputs": [],
      "source": [
        "#@markdown **Define UTILS**\n",
        "import re\n",
        "from pytube import YouTube, Playlist\n",
        "import json\n",
        "import datetime\n",
        "import os\n",
        "from operator import attrgetter\n",
        "from pytube.exceptions import RegexMatchError\n",
        "from tqdm.auto import tqdm  # !pip install tqdm\n",
        "\n",
        "def playlist2URLs(yt_url):\n",
        "    pattern = re.compile(\"^((?:https?:)?\\/\\/)?((?:www|m)\\.)?((?:youtube(-nocookie)?\\.com|youtu.be))(\\/(?:[\\w\\-]+\\?v=|embed\\/|v\\/)?)([\\w\\-]+)(\\S+)?$\")\n",
        "    \"\"\"Returns a list of video urls from a youtube playlist\"\"\"\n",
        "    if not pattern.match(yt_url):\n",
        "        raise Exception(\"passed URL is not a Youtube URL\")\n",
        "    try:\n",
        "        playlist = Playlist(yt_url)\n",
        "        return playlist.video_urls\n",
        "    except:\n",
        "        #passed a YT url that is not a playlist\n",
        "        return [yt_url]\n",
        "\n",
        "def id2ytURL(video_id): return \"https://www.youtube.com/watch?v=\" + video_id\n",
        "\n",
        "\n",
        "def yt_meta(url):\n",
        "    yt = YouTube(url)\n",
        "\n",
        "    yt_props = [\"video_id\",\n",
        "            \"title\",\n",
        "            \"description\",\n",
        "            \"author\",\n",
        "            \"keywords\",\n",
        "            \"channel_url\",\n",
        "            \"length\",\n",
        "            \"views\",\n",
        "            \"publish_date\",\n",
        "            ]\n",
        "\n",
        "    meta= dict(zip(yt_props, attrgetter(*yt_props)(yt)))\n",
        "    date = meta[\"publish_date\"]\n",
        "    meta[\"publish_date\"] = date.now().strftime(\"%m/%d/%Y\")\n",
        "    meta[\"timestamp\"] = round(datetime.datetime.timestamp(date))\n",
        "    return meta\n",
        "    \n",
        "\n",
        "def ytURL2id(url):\n",
        "    regex = re.compile(r'(https?://)?(www\\.)?(youtube|youtu|youtube-nocookie)\\.(com|be)/(watch\\?v=|embed/|v/|.+\\?v=)?(?P<id>[A-Za-z0-9\\-=_]{11})')\n",
        "    match = regex.match(url)\n",
        "    if not match:\n",
        "        print('no ID found for YT url')\n",
        "        return False\n",
        "    id = match.group('id')\n",
        "    print(id)\n",
        "    return id\n",
        "\n",
        "def playlist2IDs(pl_url):\n",
        "    return [ytURL2id(url) for url in playlist2URLs(pl_url)]\n",
        "\n",
        "\n",
        "def URL2mp3(url, entity=\"\", output_path=output_path, hq_audio=False):\n",
        "\n",
        "    stream_idx = 1 if hq_audio else 0 #hq is 128k, else 48k\n",
        "    #entity can be a person/podcast/organization etc.\n",
        "    yt = YouTube(url)\n",
        "    ID = ytURL2id(url)\n",
        "    metadata= yt_meta(url)\n",
        "    metadata[\"entity\"] = entity\n",
        "\n",
        "    yt.streams.filter(only_audio=True)[stream_idx]\\\n",
        "    .download(\n",
        "        output_path=output_path,\n",
        "        filename=f\"{ID}.mp3\"\n",
        "    )\n",
        "\n",
        "    with open(f\"{output_path}/{ID}_meta.json\", 'w') as f:\n",
        "        # j = json.dumps(metadata, indent=4, sort_keys=True, default=str) \n",
        "        json.dump(metadata, f)\n",
        "\n",
        "# playlist2IDs(\"https://www.youtube.com/watch?v=VMj-3S1tku0&list=PLAqhIrjkxbuWI23v9cThsA9GvCAUhRvKZ&index=1&t=112s\")"
      ]
    },
    {
      "cell_type": "markdown",
      "metadata": {
        "id": "zB3JiGAHTXBQ"
      },
      "source": [
        "## Sources (Entities) as YT playlists"
      ]
    },
    {
      "cell_type": "markdown",
      "metadata": {
        "id": "Hgi5iWtMWQ4o"
      },
      "source": [
        "## Download Sources from Youtube as MP3 (with metadata.json)"
      ]
    },
    {
      "cell_type": "code",
      "execution_count": null,
      "metadata": {
        "id": "MNwhRT0pL9cr"
      },
      "outputs": [],
      "source": [
        "import os\n",
        "\n",
        "if False:\n",
        "    for entity, playlists in sources.items():\n",
        "        print(entity, playlists)\n",
        "        for playlist in playlists:\n",
        "            print(f'{entity}: Playlist {playlist}')\n",
        "            for video in playlist2URLs(playlist):\n",
        "                print(f'Video: {video}')\n",
        "                tqdm(URL2mp3(video, entity=entity))"
      ]
    },
    {
      "cell_type": "markdown",
      "metadata": {
        "id": "Ac_RFqJRUENx"
      },
      "source": [
        "## Transcribe MP3s (using Whisper) [no speaker separation yet]\n",
        "\n",
        "\n"
      ]
    },
    {
      "cell_type": "code",
      "execution_count": null,
      "metadata": {
        "colab": {
          "base_uri": "https://localhost:8080/"
        },
        "id": "buGt4moR5Mac",
        "outputId": "49e2cd17-9aff-4ce3-c716-36568cbab9f5"
      },
      "outputs": [
        {
          "name": "stderr",
          "output_type": "stream",
          "text": [
            "100%|█████████████████████████████████████| 1.42G/1.42G [00:46<00:00, 33.2MiB/s]\n"
          ]
        }
      ],
      "source": [
        "import whisper\n",
        "from os.path import exists\n",
        "\n",
        "# num_speakers = 2 #@param {type:\"integer\"}\n",
        "language = 'English' #@param ['any', 'English']\n",
        "model_size = 'medium' #@param ['tiny', 'base', 'small', 'medium', 'large']\n",
        "\n",
        "model_name = model_size\n",
        "if language == 'English' and model_size != 'large':\n",
        "  model_name += '.en'\n",
        "\n",
        "model = whisper.load_model(model_size)\n",
        "\n",
        "\n",
        "def transcribe(yt_id, entity=\"\", model=model):\n",
        "    #TODO transcribing and saving should be two different functions (single concern)\n",
        "    path = f'{output_path}/{yt_id}.mp3'\n",
        "    result = model.transcribe(path)\n",
        "    result['video_id'] = yt_id\n",
        "    result[\"entity\"] = entity\n",
        "    return result"
      ]
    },
    {
      "cell_type": "code",
      "execution_count": null,
      "metadata": {
        "colab": {
          "background_save": true,
          "base_uri": "https://localhost:8080/"
        },
        "id": "EQMMIVB-cBEC",
        "outputId": "3749a3d4-c9d1-47c5-b51f-5ac744027143"
      },
      "outputs": [
        {
          "name": "stdout",
          "output_type": "stream",
          "text": [
            "WqIzUopTPvU\n",
            "/content/drive/MyDrive/YT//WqIzUopTPvU_whisper.json  -- already exists\n",
            "/content/drive/MyDrive/YT//WqIzUopTPvU_whisper.json  -- already exists\n",
            "VMj-3S1tku0\n",
            "/content/drive/MyDrive/YT//VMj-3S1tku0_whisper.json  -- already exists\n",
            "PaCmpygFfXo\n",
            "/content/drive/MyDrive/YT//PaCmpygFfXo_whisper.json  -- already exists\n",
            "TCH_1BHY58I\n",
            "/content/drive/MyDrive/YT//TCH_1BHY58I_whisper.json  -- already exists\n",
            "P6sfmUTpUmc\n",
            "/content/drive/MyDrive/YT//P6sfmUTpUmc_whisper.json  -- already exists\n",
            "q8SA3rM6ckI\n",
            "/content/drive/MyDrive/YT//q8SA3rM6ckI_whisper.json  -- already exists\n",
            "3SypMvnQT_s\n",
            "/content/drive/MyDrive/YT//3SypMvnQT_s_whisper.json  -- already exists\n",
            "/content/drive/MyDrive/YT//3SypMvnQT_s_whisper.json  -- already exists\n",
            "a510m7s_SVI\n",
            "/content/drive/MyDrive/YT//a510m7s_SVI_whisper.json  -- already exists\n",
            "/content/drive/MyDrive/YT//a510m7s_SVI_whisper.json  -- already exists\n",
            "/content/drive/MyDrive/YT//a510m7s_SVI_whisper.json  -- already exists\n",
            "/content/drive/MyDrive/YT//a510m7s_SVI_whisper.json  -- already exists\n",
            "/content/drive/MyDrive/YT//a510m7s_SVI_whisper.json  -- already exists\n",
            "oBklltKXtDE\n",
            "/content/drive/MyDrive/YT//oBklltKXtDE_whisper.json  -- already exists\n",
            "/content/drive/MyDrive/YT//oBklltKXtDE_whisper.json  -- already exists\n",
            "/content/drive/MyDrive/YT//oBklltKXtDE_whisper.json  -- already exists\n",
            "YNvwfMhAD8U\n",
            "/content/drive/MyDrive/YT//YNvwfMhAD8U_whisper.json  -- already exists\n",
            "/content/drive/MyDrive/YT//YNvwfMhAD8U_whisper.json  -- already exists\n",
            "/content/drive/MyDrive/YT//YNvwfMhAD8U_whisper.json  -- already exists\n",
            "u6aEYuemt0M\n",
            "/content/drive/MyDrive/YT//u6aEYuemt0M_whisper.json  -- already exists\n",
            "/content/drive/MyDrive/YT//u6aEYuemt0M_whisper.json  -- already exists\n",
            "IHH47nZ7FZU\n",
            "/content/drive/MyDrive/YT//IHH47nZ7FZU_whisper.json  -- already exists\n",
            "/content/drive/MyDrive/YT//IHH47nZ7FZU_whisper.json  -- already exists\n",
            "_JuQcodHANs\n",
            "/content/drive/MyDrive/YT//_JuQcodHANs_whisper.json  -- already exists\n",
            "/content/drive/MyDrive/YT//_JuQcodHANs_whisper.json  -- already exists\n",
            "v5l-jPsAK7k\n",
            "/content/drive/MyDrive/YT//v5l-jPsAK7k_whisper.json  -- already exists\n",
            "/content/drive/MyDrive/YT//v5l-jPsAK7k_whisper.json  -- already exists\n",
            "x0_404KeDIc\n",
            "/content/drive/MyDrive/YT//x0_404KeDIc_whisper.json  -- already exists\n",
            "/content/drive/MyDrive/YT//x0_404KeDIc_whisper.json  -- already exists\n",
            "8SF_h3xF3cE\n",
            "/content/drive/MyDrive/YT//8SF_h3xF3cE_whisper.json  -- already exists\n",
            "/content/drive/MyDrive/YT//8SF_h3xF3cE_whisper.json  -- already exists\n",
            "F4tvM4Vb3A0\n",
            "/content/drive/MyDrive/YT//F4tvM4Vb3A0_whisper.json  -- already exists\n",
            "/content/drive/MyDrive/YT//F4tvM4Vb3A0_whisper.json  -- already exists\n",
            "hBBOjCiFcuo\n",
            "/content/drive/MyDrive/YT//hBBOjCiFcuo_whisper.json  -- already exists\n",
            "/content/drive/MyDrive/YT//hBBOjCiFcuo_whisper.json  -- already exists\n",
            "toUgBQv1BT8\n",
            "/content/drive/MyDrive/YT//toUgBQv1BT8_whisper.json  -- already exists\n",
            "/content/drive/MyDrive/YT//toUgBQv1BT8_whisper.json  -- already exists\n",
            "_rXzeWq4C6w\n",
            "/content/drive/MyDrive/YT//_rXzeWq4C6w_whisper.json  -- already exists\n",
            "/content/drive/MyDrive/YT//_rXzeWq4C6w_whisper.json  -- already exists\n",
            "AdhG64NF76E\n",
            "/content/drive/MyDrive/YT//AdhG64NF76E_whisper.json  -- already exists\n",
            "/content/drive/MyDrive/YT//AdhG64NF76E_whisper.json  -- already exists\n",
            "p4ZZq0736Po\n",
            "/content/drive/MyDrive/YT//p4ZZq0736Po_whisper.json  -- already exists\n",
            "/content/drive/MyDrive/YT//p4ZZq0736Po_whisper.json  -- already exists\n",
            "htiNBPxcXgo\n",
            "/content/drive/MyDrive/YT//htiNBPxcXgo_whisper.json  -- already exists\n",
            "/content/drive/MyDrive/YT//htiNBPxcXgo_whisper.json  -- already exists\n",
            "40riCqvRoMs\n",
            "/content/drive/MyDrive/YT//40riCqvRoMs_whisper.json  -- already exists\n",
            "/content/drive/MyDrive/YT//40riCqvRoMs_whisper.json  -- already exists\n",
            "XnhfeNDc0eI\n",
            "/content/drive/MyDrive/YT//XnhfeNDc0eI_whisper.json  -- already exists\n",
            "/content/drive/MyDrive/YT//XnhfeNDc0eI_whisper.json  -- already exists\n",
            "XzFyYXovHMU\n",
            "/content/drive/MyDrive/YT//XzFyYXovHMU_whisper.json  -- already exists\n",
            "/content/drive/MyDrive/YT//XzFyYXovHMU_whisper.json  -- already exists\n",
            "Z7naK1uq1F8\n",
            "/content/drive/MyDrive/YT//Z7naK1uq1F8_whisper.json  -- already exists\n",
            "/content/drive/MyDrive/YT//Z7naK1uq1F8_whisper.json  -- already exists\n",
            "ylVsqXzlJqA\n",
            "/content/drive/MyDrive/YT//ylVsqXzlJqA_whisper.json  -- already exists\n",
            "/content/drive/MyDrive/YT//ylVsqXzlJqA_whisper.json  -- already exists\n",
            "VBjqWogh6Gw\n",
            "/content/drive/MyDrive/YT//VBjqWogh6Gw_whisper.json  -- already exists\n",
            "/content/drive/MyDrive/YT//VBjqWogh6Gw_whisper.json  -- already exists\n",
            "IXxh5C9iKFE\n",
            "/content/drive/MyDrive/YT//IXxh5C9iKFE_whisper.json  -- already exists\n",
            "/content/drive/MyDrive/YT//IXxh5C9iKFE_whisper.json  -- already exists\n",
            "JIBvfxg2iJ0\n",
            "/content/drive/MyDrive/YT//JIBvfxg2iJ0_whisper.json  -- already exists\n",
            "/content/drive/MyDrive/YT//JIBvfxg2iJ0_whisper.json  -- already exists\n",
            "CmsgZg3_Fns\n",
            "/content/drive/MyDrive/YT//CmsgZg3_Fns_whisper.json  -- already exists\n",
            "/content/drive/MyDrive/YT//CmsgZg3_Fns_whisper.json  -- already exists\n",
            "ItXZWC5UOBQ\n",
            "/content/drive/MyDrive/YT//ItXZWC5UOBQ_whisper.json  -- already exists\n",
            "/content/drive/MyDrive/YT//ItXZWC5UOBQ_whisper.json  -- already exists\n",
            "0xJofTfAHWw\n",
            "/content/drive/MyDrive/YT//0xJofTfAHWw_whisper.json  -- already exists\n",
            "/content/drive/MyDrive/YT//0xJofTfAHWw_whisper.json  -- already exists\n",
            "DokLw1tILlw\n",
            "/content/drive/MyDrive/YT//DokLw1tILlw_meta.json\n",
            "TRANSCRIBING 62min : Yann LeCun: \"A Path Towards Autonomous AI\", Baidu 2022-02-22 : Yann LeCun -- DokLw1tILlw\n"
          ]
        },
        {
          "name": "stderr",
          "output_type": "stream",
          "text": [
            "/usr/local/lib/python3.7/dist-packages/whisper/transcribe.py:78: UserWarning: FP16 is not supported on CPU; using FP32 instead\n",
            "  warnings.warn(\"FP16 is not supported on CPU; using FP32 instead\")\n"
          ]
        }
      ],
      "source": [
        "for filename in os.listdir(output_path):\n",
        "    if filename.endswith(\".mp3\"):\n",
        "        id = filename.split(\".\")[:-1][0]\n",
        "        print(id)\n",
        "        out = f'{output_path}/{id}_whisper.json'\n",
        "\n",
        "    if exists(out):\n",
        "        print(out, \" -- already exists\")\n",
        "        continue\n",
        "\n",
        "    #read meta data to add to whisper file (to later connect files)\n",
        "\n",
        "    metafile = f'{output_path}/{id}_meta.json'\n",
        "    print(metafile)\n",
        "    \n",
        "    meta = {}\n",
        "    try:\n",
        "        with open(metafile) as f:\n",
        "            meta = json.loads(f.read())\n",
        "    except:\n",
        "        print(\"Error with \", metafile, \"... moving on\")\n",
        "        continue\n",
        "    \n",
        "    entity = meta[\"entity\"] #person/podcast etcs\n",
        "    title = meta[\"title\"]\n",
        "\n",
        "    #Transcribe audio\n",
        "    print(f'TRANSCRIBING {round(meta[\"length\"]/60)}min : {title} : {entity} -- {id}')\n",
        "    result = transcribe(id, entity)\n",
        "\n",
        "    with open(out, 'w') as f:\n",
        "        json.dump(result, f)\n",
        "\n",
        "            "
      ]
    },
    {
      "cell_type": "code",
      "execution_count": null,
      "metadata": {
        "id": "qx-jurYblYnL"
      },
      "outputs": [],
      "source": []
    }
  ],
  "metadata": {
    "accelerator": "GPU",
    "colab": {
      "collapsed_sections": [],
      "provenance": [],
      "include_colab_link": true
    },
    "gpuClass": "standard",
    "kernelspec": {
      "display_name": "Python 3.10.4 ('ml')",
      "language": "python",
      "name": "python3"
    },
    "language_info": {
      "codemirror_mode": {
        "name": "ipython",
        "version": 3
      },
      "file_extension": ".py",
      "mimetype": "text/x-python",
      "name": "python",
      "nbconvert_exporter": "python",
      "pygments_lexer": "ipython3",
      "version": "3.10.4"
    },
    "vscode": {
      "interpreter": {
        "hash": "d905c6a59c21f0f46be93fdc832728644d115a3fdfd57971d06d899b53e0576e"
      }
    }
  },
  "nbformat": 4,
  "nbformat_minor": 0
}